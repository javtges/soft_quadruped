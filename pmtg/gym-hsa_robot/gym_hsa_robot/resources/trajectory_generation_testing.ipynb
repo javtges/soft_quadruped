{
  "cells": [
    {
      "cell_type": "code",
      "execution_count": 1,
      "metadata": {
        "colab": {
          "base_uri": "https://localhost:8080/",
          "height": 285
        },
        "id": "4bJABP2ikYfb",
        "outputId": "40930b0b-15be-41f5-910f-7ddafc7409ed"
      },
      "outputs": [
        {
          "data": {
            "text/latex": [
              "$\\displaystyle \\left[\\begin{matrix}0.02 \\cos{\\left(2 \\pi t \\right)}\\\\0.02 \\sin{\\left(2 \\pi t \\right)}\\end{matrix}\\right]$"
            ],
            "text/plain": [
              "Matrix([\n",
              "[0.02*cos(2*pi*t)],\n",
              "[0.02*sin(2*pi*t)]])"
            ]
          },
          "metadata": {},
          "output_type": "display_data"
        },
        {
          "data": {
            "text/latex": [
              "$\\displaystyle \\left[\\begin{matrix}\\left(\\epsilon + 0.05\\right) \\sin{\\left(\\theta \\right)}\\\\\\left(\\epsilon + 0.05\\right) \\cos{\\left(\\theta \\right)}\\end{matrix}\\right]$"
            ],
            "text/plain": [
              "Matrix([\n",
              "[(epsilon + 0.05)*sin(theta)],\n",
              "[(epsilon + 0.05)*cos(theta)]])"
            ]
          },
          "metadata": {},
          "output_type": "display_data"
        },
        {
          "data": {
            "text/latex": [
              "$\\displaystyle -0.05 + \\frac{0.02 \\cos{\\left(6.28318530717959 t \\right)}}{\\sin{\\left(2.0 \\operatorname{atan}{\\left(\\frac{1}{\\tan{\\left(3.14159265358979 t \\right)} - 1.0} + \\frac{\\sin{\\left(3.14159265358979 t \\right)}}{\\sin{\\left(3.14159265358979 t \\right)} - 1.0 \\cos{\\left(3.14159265358979 t \\right)}} \\right)} \\right)}}$"
            ],
            "text/plain": [
              "-0.05 + 0.02*cos(6.28318530717959*t)/sin(2.0*atan(1/(tan(3.14159265358979*t) - 1.0) + sin(3.14159265358979*t)/(sin(3.14159265358979*t) - 1.0*cos(3.14159265358979*t))))"
            ]
          },
          "metadata": {},
          "output_type": "display_data"
        },
        {
          "data": {
            "text/latex": [
              "$\\displaystyle 2.0 \\operatorname{atan}{\\left(\\frac{\\tan{\\left(3.14159265358979 t \\right)} + 1.0}{\\tan{\\left(3.14159265358979 t \\right)} - 1.0} \\right)}$"
            ],
            "text/plain": [
              "2.0*atan((tan(3.14159265358979*t) + 1.0)/(tan(3.14159265358979*t) - 1.0))"
            ]
          },
          "metadata": {},
          "output_type": "display_data"
        },
        {
          "data": {
            "text/latex": [
              "$\\displaystyle -0.05 + \\frac{0.02 \\cos{\\left(6.28318530717959 t \\right)}}{\\sin{\\left(2.0 \\operatorname{atan}{\\left(\\frac{1}{\\tan{\\left(3.14159265358979 t \\right)} + 1.0} - \\frac{\\sin{\\left(3.14159265358979 t \\right)}}{\\sin{\\left(3.14159265358979 t \\right)} + 1.0 \\cos{\\left(3.14159265358979 t \\right)}} \\right)} \\right)}}$"
            ],
            "text/plain": [
              "-0.05 + 0.02*cos(6.28318530717959*t)/sin(2.0*atan(1/(tan(3.14159265358979*t) + 1.0) - sin(3.14159265358979*t)/(sin(3.14159265358979*t) + 1.0*cos(3.14159265358979*t))))"
            ]
          },
          "metadata": {},
          "output_type": "display_data"
        },
        {
          "data": {
            "text/latex": [
              "$\\displaystyle - 2.0 \\operatorname{atan}{\\left(\\frac{\\tan{\\left(3.14159265358979 t \\right)} - 1.0}{\\tan{\\left(3.14159265358979 t \\right)} + 1.0} \\right)}$"
            ],
            "text/plain": [
              "-2.0*atan((tan(3.14159265358979*t) - 1.0)/(tan(3.14159265358979*t) + 1.0))"
            ]
          },
          "metadata": {},
          "output_type": "display_data"
        }
      ],
      "source": [
        "import sympy as sym\n",
        "from sympy.abc import t\n",
        "from sympy import symbols, Function, solve, Eq, Matrix\n",
        "\n",
        "# define position as function of t\n",
        "# t = Function(r't')(t)\n",
        "# define velocity as derivative of position wrt t\n",
        "# x1dot = x1.diff(t)\n",
        "\n",
        "# define position as function of t\n",
        "# x2 = Function(r'x_2')(t)\n",
        "# define velocity as derivative of position wrt t\n",
        "# x2dot = x2.diff(t)\n",
        "\n",
        "theta = symbols('theta')\n",
        "eps = symbols('epsilon')\n",
        "\n",
        "eq1_lhs = 0.02*sym.cos(2*sym.pi*t)\n",
        "eq1_rhs = (0.05+eps)*sym.sin(theta)\n",
        "\n",
        "eq2_lhs = 0.02*sym.sin(2*sym.pi*t)\n",
        "eq2_rhs = (0.05+eps)*sym.cos(theta)\n",
        "\n",
        "lhs = Matrix([eq1_lhs, eq2_lhs])\n",
        "rhs = Matrix([eq1_rhs, eq2_rhs])\n",
        "\n",
        "display(lhs)\n",
        "display(rhs)\n",
        "\n",
        "eqn = Eq(lhs, rhs)\n",
        "q = Matrix([theta, eps])\n",
        "\n",
        "sol = solve(eqn, q, dict=True)\n",
        "# sol_0 = sol[0].simplify()\n",
        "# sol_1 = sol[1].simplify()\n",
        "display(sol[0][eps].simplify())\n",
        "display(sol[0][theta].simplify())\n",
        "\n",
        "\n",
        "display(sol[1][eps].simplify())\n",
        "display(sol[1][theta].simplify())"
      ]
    },
    {
      "cell_type": "code",
      "execution_count": 2,
      "metadata": {
        "colab": {
          "base_uri": "https://localhost:8080/"
        },
        "id": "cd9I8brxnoIE",
        "outputId": "1883de90-17a6-436a-f92f-3c9d601bad70"
      },
      "outputs": [
        {
          "name": "stdout",
          "output_type": "stream",
          "text": [
            "[0.         0.01010101 0.02020202 0.03030303 0.04040404 0.05050505\n",
            " 0.06060606 0.07070707 0.08080808 0.09090909 0.1010101  0.11111111\n",
            " 0.12121212 0.13131313 0.14141414 0.15151515 0.16161616 0.17171717\n",
            " 0.18181818 0.19191919 0.2020202  0.21212121 0.22222222 0.23232323\n",
            " 0.24242424 0.25252525 0.26262626 0.27272727 0.28282828 0.29292929\n",
            " 0.3030303  0.31313131 0.32323232 0.33333333 0.34343434 0.35353535\n",
            " 0.36363636 0.37373737 0.38383838 0.39393939 0.4040404  0.41414141\n",
            " 0.42424242 0.43434343 0.44444444 0.45454545 0.46464646 0.47474747\n",
            " 0.48484848 0.49494949 0.50505051 0.51515152 0.52525253 0.53535354\n",
            " 0.54545455 0.55555556 0.56565657 0.57575758 0.58585859 0.5959596\n",
            " 0.60606061 0.61616162 0.62626263 0.63636364 0.64646465 0.65656566\n",
            " 0.66666667 0.67676768 0.68686869 0.6969697  0.70707071 0.71717172\n",
            " 0.72727273 0.73737374 0.74747475 0.75757576 0.76767677 0.77777778\n",
            " 0.78787879 0.7979798  0.80808081 0.81818182 0.82828283 0.83838384\n",
            " 0.84848485 0.85858586 0.86868687 0.87878788 0.88888889 0.8989899\n",
            " 0.90909091 0.91919192 0.92929293 0.93939394 0.94949495 0.95959596\n",
            " 0.96969697 0.97979798 0.98989899 1.        ]\n",
            "[-0.07, -0.07, -0.07, -0.07, -0.07, -0.07, -0.07, -0.07, -0.07, -0.07, -0.07, -0.07, -0.07, -0.07, -0.07, -0.07, -0.07, -0.07, -0.07, -0.07, -0.07, -0.07, -0.07, -0.07, -0.07, -0.07, -0.07, -0.07, -0.07, -0.07, -0.07, -0.07, -0.07, -0.07, -0.07, -0.07, -0.07, -0.07, -0.07, -0.07, -0.07, -0.07, -0.07, -0.07, -0.07, -0.07, -0.07, -0.07, -0.07, -0.07, -0.07, -0.07, -0.07, -0.07, -0.07, -0.07, -0.07, -0.07, -0.07, -0.07, -0.07, -0.07, -0.07, -0.07, -0.07, -0.07, -0.07, -0.07, -0.07, -0.07, -0.07, -0.07, -0.07, -0.07, -0.07, -0.07, -0.07, -0.07, -0.07, -0.07, -0.07, -0.07, -0.07, -0.07, -0.07, -0.07, -0.07, -0.07, -0.07, -0.07, -0.07, -0.07, -0.07, -0.07, -0.07, -0.07, -0.07, -0.07, -0.07, -0.07]\n",
            "[-1.5707963267948966, -1.5073298085405573, -1.4438632902862183, -1.3803967720318788, -1.3169302537775398, -1.2534637355232001, -1.1899972172688613, -1.1265306990145219, -1.0630641807601826, -0.9995976625058433, -0.9361311442515041, -0.8726646259971649, -0.8091981077428255, -0.7457315894884863, -0.6822650712341467, -0.6187985529798077, -0.5553320347254684, -0.49186551647112914, -0.4283989982167901, -0.36493247996245076, -0.3014659617081113, -0.23799944345377233, -0.1745329251994328, -0.11106640694509358, -0.04759988869075449, 0.01586662956358485, 0.07933314781792415, 0.14279966607226338, 0.20626618432660285, 0.26973270258094173, 0.3331992208352812, 0.39666573908962033, 0.46013225734395957, 0.523598775598299, 0.5870652938526386, 0.6505318121069776, 0.7139983303613165, 0.7774648486156561, 0.8409313668699951, 0.9043978851243346, 0.967864403378674, 1.031330921633013, 1.0947974398873521, 1.1582639581416916, 1.221730476396031, 1.2851969946503699, 1.3486635129047093, 1.412130031159049, 1.4755965494133876, 1.539063067667727, 1.6025295859220663, 1.665996104176406, 1.729462622430745, 1.7929291406850838, 1.8563956589394233, 1.9198621771937625, 1.9833286954481024, 2.0467952137024414, 2.11026173195678, 2.17372825021112, 2.237194768465459, 2.3006612867197984, 2.3641278049741374, 2.4275943232284773, 2.491060841482816, 2.554527359737155, 2.617993877991495, 2.681460396245834, 2.744926914500174, 2.808393432754512, 2.871859951008852, 2.935326469263191, 2.99879298751753, 3.06225950577187, 3.125726024026209, -3.093992764899039, -3.0305262466447, -2.967059728390361, -2.903593210136021, -2.840126691881682, -2.776660173627342, -2.713193655373003, -2.649727137118664, -2.586260618864325, -2.5227941006099854, -2.459327582355646, -2.395861064101307, -2.332394545846967, -2.268928027592628, -2.2054615093382886, -2.14199499108395, -2.078528472829611, -2.015061954575271, -1.951595436320932, -1.8881289180665919, -1.824662399812254, -1.761195881557915, -1.6977293633035748, -1.6342628450492358, -1.570796326794897]\n"
          ]
        }
      ],
      "source": [
        "import matplotlib.pyplot as plt\n",
        "import numpy as np\n",
        "\n",
        "test = np.linspace(0, 1, 100)\n",
        "print(test)\n",
        "eps_list = []\n",
        "theta_list = []\n",
        "\n",
        "for t in test:\n",
        "\n",
        "  eps = -0.05 + 0.02/ np.sin(2.0 * np.arctan( 1/(np.tan(np.pi * t) - 1) - (np.sin(np.pi * t) / (np.sin(np.pi * t) - np.cos( np.pi * t )))    ))\n",
        "  theta = 2 * np.arctan( (np.tan(np.pi*t) - 1) / (np.tan(np.pi*t) + 1) )\n",
        "\n",
        "  eps_list.append(eps)\n",
        "  theta_list.append(theta)\n",
        "\n",
        "\n",
        "\n",
        "print(eps_list)\n",
        "print(theta_list)"
      ]
    },
    {
      "cell_type": "code",
      "execution_count": 3,
      "metadata": {
        "colab": {
          "base_uri": "https://localhost:8080/",
          "height": 265
        },
        "id": "MvZKz_aXpOM2",
        "outputId": "b730c0b4-65da-4945-98c5-2c33c6d8c43d"
      },
      "outputs": [
        {
          "data": {
            "image/png": "[encoded data removed]",
            "text/plain": [
              "<Figure size 432x288 with 1 Axes>"
            ]
          },
          "metadata": {
            "needs_background": "light"
          },
          "output_type": "display_data"
        }
      ],
      "source": [
        "x = []\n",
        "y = []\n",
        "\n",
        "for t in range(len(eps_list)):\n",
        "  xv = (0.05+eps_list[t]) * np.sin(theta_list[t])\n",
        "  yv = (0.05+eps_list[t]) * np.cos(theta_list[t])\n",
        "\n",
        "  x.append(xv)\n",
        "  y.append(yv)\n",
        "\n",
        "import matplotlib.pyplot as plt\n",
        "\n",
        "plt.scatter(x, y)\n",
        "plt.show()"
      ]
    }
  ],
  "metadata": {
    "colab": {
      "collapsed_sections": [],
      "provenance": []
    },
    "kernelspec": {
      "display_name": "Python 3.8.10 64-bit",
      "language": "python",
      "name": "python3"
    },
    "language_info": {
      "codemirror_mode": {
        "name": "ipython",
        "version": 3
      },
      "file_extension": ".py",
      "mimetype": "text/x-python",
      "name": "python",
      "nbconvert_exporter": "python",
      "pygments_lexer": "ipython3",
      "version": "3.8.10"
    },
    "vscode": {
      "interpreter": {
        "hash": "916dbcbb3f70747c44a77c7bcd40155683ae19c65e1c03b4aa3499c5328201f1"
      }
    }
  },
  "nbformat": 4,
  "nbformat_minor": 0
}
