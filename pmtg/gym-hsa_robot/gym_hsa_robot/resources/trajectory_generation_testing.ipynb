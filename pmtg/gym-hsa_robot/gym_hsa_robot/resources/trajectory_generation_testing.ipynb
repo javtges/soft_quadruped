{
  "cells": [
    {
      "cell_type": "code",
      "execution_count": 11,
      "metadata": {
        "colab": {
          "base_uri": "https://localhost:8080/",
          "height": 285
        },
        "id": "4bJABP2ikYfb",
        "outputId": "40930b0b-15be-41f5-910f-7ddafc7409ed"
      },
      "outputs": [
        {
          "data": {
            "text/plain": [
              "'\\nThis Sympy code takes forever to run - finding a perfect circle given the dynamics we have here.\\nI tried for ~13 minutes to no avail. So, we use an imperfect circle instead.\\n'"
            ]
          },
          "execution_count": 11,
          "metadata": {},
          "output_type": "execute_result"
        }
      ],
      "source": [
        "import sympy as sym\n",
        "from sympy.abc import t\n",
        "from sympy import symbols, Function, solve, Eq, Matrix\n",
        "\n",
        "'''\n",
        "This Sympy code takes forever to run - finding a perfect circle given the dynamics we have here.\n",
        "I tried for ~13 minutes to no avail. So, we use an imperfect circle instead.\n",
        "'''\n",
        "\n",
        "# theta = symbols('theta')\n",
        "# eps = symbols('epsilon')\n",
        "\n",
        "# eq1_lhs = 0.02*sym.cos(t)\n",
        "# eq1_rhs = (0.05+eps)*sym.sin(theta)\n",
        "\n",
        "# eq2_lhs = 0.02*sym.sin(t) - 0.05\n",
        "# eq2_rhs = (0.05+eps)*sym.cos(theta)\n",
        "\n",
        "# lhs = Matrix([eq1_lhs, eq2_lhs])\n",
        "# rhs = Matrix([eq1_rhs, eq2_rhs])\n",
        "\n",
        "# display(lhs)\n",
        "# display(rhs)\n",
        "\n",
        "# eqn = Eq(lhs, rhs)\n",
        "# q = Matrix([theta, eps])\n",
        "\n",
        "# sol = solve(eqn, q, dict=True)\n",
        "# display(sol)\n"
      ]
    },
    {
      "cell_type": "code",
      "execution_count": 16,
      "metadata": {
        "colab": {
          "base_uri": "https://localhost:8080/"
        },
        "id": "cd9I8brxnoIE",
        "outputId": "1883de90-17a6-436a-f92f-3c9d601bad70"
      },
      "outputs": [],
      "source": [
        "import matplotlib.pyplot as plt\n",
        "import numpy as np\n",
        "\n",
        "test = np.linspace(0, 1, 100)\n",
        "eps_list = []\n",
        "theta_list = []\n",
        "\n",
        "for t in test:\n",
        "\n",
        "  eps = 0.02 * np.cos(2*np.pi*t)\n",
        "  theta = 0.03 * np.sin(2*np.pi*t)\n",
        "\n",
        "  # eps = -0.05 + 0.02/ np.sin(2.0 * np.arctan( 1/(np.tan(np.pi * t) - 1) - (np.sin(np.pi * t) / (np.sin(np.pi * t) - np.cos( np.pi * t )))    ))\n",
        "  # theta = 2 * np.arctan( (np.tan(np.pi*t) - 1) / (np.tan(np.pi*t) + 1) )\n",
        "\n",
        "  eps_list.append(eps)\n",
        "  theta_list.append(theta)\n",
        "\n",
        "\n",
        "\n",
        "# print(eps_list)\n",
        "# print(theta_list)"
      ]
    },
    {
      "cell_type": "code",
      "execution_count": 17,
      "metadata": {
        "colab": {
          "base_uri": "https://localhost:8080/",
          "height": 265
        },
        "id": "MvZKz_aXpOM2",
        "outputId": "b730c0b4-65da-4945-98c5-2c33c6d8c43d"
      },
      "outputs": [
        {
          "data": {
            "image/png": "[encoded data removed]",
            "text/plain": [
              "<Figure size 432x288 with 1 Axes>"
            ]
          },
          "metadata": {
            "needs_background": "light"
          },
          "output_type": "display_data"
        }
      ],
      "source": [
        "x = []\n",
        "y = []\n",
        "\n",
        "for t in range(len(eps_list)):\n",
        "  xv = (0.05+eps_list[t]) * np.sin(theta_list[t])\n",
        "  yv = (0.05+eps_list[t]) * np.cos(theta_list[t])\n",
        "\n",
        "  x.append(xv)\n",
        "  y.append(yv)\n",
        "\n",
        "import matplotlib.pyplot as plt\n",
        "\n",
        "plt.scatter(x, y)\n",
        "plt.show()"
      ]
    }
  ],
  "metadata": {
    "colab": {
      "collapsed_sections": [],
      "provenance": []
    },
    "kernelspec": {
      "display_name": "Python 3.8.10 64-bit",
      "language": "python",
      "name": "python3"
    },
    "language_info": {
      "codemirror_mode": {
        "name": "ipython",
        "version": 3
      },
      "file_extension": ".py",
      "mimetype": "text/x-python",
      "name": "python",
      "nbconvert_exporter": "python",
      "pygments_lexer": "ipython3",
      "version": "3.8.10"
    },
    "vscode": {
      "interpreter": {
        "hash": "916dbcbb3f70747c44a77c7bcd40155683ae19c65e1c03b4aa3499c5328201f1"
      }
    }
  },
  "nbformat": 4,
  "nbformat_minor": 0
}
